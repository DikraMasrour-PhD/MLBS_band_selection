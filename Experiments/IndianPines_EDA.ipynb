{
 "cells": [
  {
   "cell_type": "code",
   "execution_count": null,
   "metadata": {},
   "outputs": [],
   "source": [
    "def plot_band(dataset):\n",
    "    plt.figure(figsize=(8, 6))\n",
    "    band_no = np.random.randint(dataset.shape[2])\n",
    "    plt.imshow(dataset[:,:, band_no], cmap='viridis')\n",
    "    plt.title(f'Band-{1}', fontsize=14)\n",
    "    plt.axis('off')\n",
    "    plt.colorbar()\n",
    "    plt.show()\n",
    "plot_band(data_norm)"
   ]
  },
  {
   "cell_type": "code",
   "execution_count": null,
   "metadata": {},
   "outputs": [],
   "source": [
    "plt.figure(figsize=(8, 6))\n",
    "plt.imshow(labels_ori, cmap='viridis')\n",
    "plt.axis('off')\n",
    "plt.colorbar(ticks= range(0,16))\n",
    "plt.show()"
   ]
  }
 ],
 "metadata": {
  "language_info": {
   "name": "python"
  }
 },
 "nbformat": 4,
 "nbformat_minor": 2
}
